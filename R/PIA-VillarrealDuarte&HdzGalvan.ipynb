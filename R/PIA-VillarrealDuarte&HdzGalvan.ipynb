{
 "cells": [
  {
   "cell_type": "markdown",
   "metadata": {},
   "source": [
    "# PIA."
   ]
  },
  {
   "cell_type": "markdown",
   "metadata": {},
   "source": [
    "Simulación.\n",
    "\n",
    "**Grupo:** 001.\n",
    "\n",
    "**Prof.** Lic. Blanca Elida Serna Rodríguez.\n",
    "\n",
    "**Equipo dinamita.**\n",
    "\n",
    "*Integrantes:*\n",
    "\n",
    "* Angel Emmanuel Hernández Galván.\n",
    "* Alma Cecilia Villarreal Duarte."
   ]
  },
  {
   "attachments": {
    "Diagrama_PIA.PNG": {
     "image/png": "[encoded data removed]"
    }
   },
   "cell_type": "markdown",
   "metadata": {},
   "source": [
    "# Problema: Cola con 2 servidores en Serie\n",
    "\n",
    "Simular los tiempos de llegadas y de servicio de los clientes a un sistema donde pasan por dos servidores en serie para luego salir del sistema. \n",
    "\n",
    "Si el servidor está ocupado por algún cliente, éste debe esperar en la cola correspondiente del servidor.\n",
    "\n",
    "Una vez simulados los tiempos, se busca obtener el tiempo medio del cliente en el sistema y el tiempo medio del cliente en cada cola.\n",
    "\n",
    "![Diagrama_PIA.PNG](attachment:Diagrama_PIA.PNG)"
   ]
  },
  {
   "cell_type": "markdown",
   "metadata": {},
   "source": [
    "## Funciones."
   ]
  },
  {
   "cell_type": "markdown",
   "metadata": {},
   "source": [
    "Semilla"
   ]
  },
  {
   "cell_type": "code",
   "execution_count": 1,
   "metadata": {},
   "outputs": [],
   "source": [
    "set.seed = 123"
   ]
  },
  {
   "cell_type": "markdown",
   "metadata": {},
   "source": [
    "### Función de generación de llegadas. Poisson No Homogéneo Mejorado.\n",
    "\n",
    "Regresa la simulación de tiempos de llegada en un vector."
   ]
  },
  {
   "cell_type": "code",
   "execution_count": 2,
   "metadata": {},
   "outputs": [],
   "source": [
    "lambda <- function(x)(5+5*x)*I(x>=0&x<=3)+20*I(x>3&x<=5)+(20-2*(x-5))*I(x>5&x<=9)\n",
    "#curve(lambda(x),xlim=c(0,9),col=\"red\",lwd=2)\n",
    "# partición\n",
    "# usar S2, u3 y u4, para hacer comparación entre los códigos NHPP\n",
    "S2 <- vector()\n",
    "ti <- c(1,2,6,7,8,9)\n",
    "lj <- c(10,15,20,18,16,14)\n",
    "T1 <- 9\n",
    "k <- length(ti)\n",
    "# función para generar instantes del NHPP\n",
    "Gen_Llegadas <- function()\n",
    "{\n",
    "  t <- 0; I <- 0; J <- 1; K=0\n",
    "  repeat\n",
    "  {\n",
    "    u3 <- runif(1)\n",
    "    X <- -(log(u3)/lj[J])\n",
    "    \n",
    "    # Paso 1, al revés: si t+X<=tJ, ...\n",
    "    if(t+X<=ti[J]&J<=k)\n",
    "    {\n",
    "      t <- t+X\n",
    "      u4 <- runif(1)\n",
    "    }\n",
    "    if(u4<=lambda(t)/lj[J])\n",
    "    {\n",
    "      I <- I+1\n",
    "      S2[I] <- t\n",
    "    } else {K=K+1}\n",
    "    if(X+t>ti[J]&J<k)\n",
    "    {\n",
    "      # Paso 2, primero lo de abajo del algoritmo \n",
    "      X <- (lj[J]*(X-(ti[J]-t)))/lj[J+1]\n",
    "      t <- ti[J]\n",
    "      J <- J+1\n",
    "    }\n",
    "    # Regresa paso 1\n",
    "    if(t+X>ti[J]&J==k)\n",
    "      break\n",
    "  }\n",
    "  #print(\"S\")\n",
    "  return(S2)\n",
    "  #return((I+K)/I)\n",
    "}"
   ]
  },
  {
   "cell_type": "markdown",
   "metadata": {},
   "source": [
    "### Función de generación de tiempo de servicio. Exponencial con parámetro $\\theta$\n",
    "\n",
    "Regresa un tiempo de atención para un servidor dado el parametro $\\theta$"
   ]
  },
  {
   "cell_type": "code",
   "execution_count": 3,
   "metadata": {},
   "outputs": [],
   "source": [
    "# Generación de tiempo de servicio\n",
    "tserv<-function(Teta){\n",
    "  t<-(-1/Teta)*log(runif(1))\n",
    "  return(t)\n",
    "}"
   ]
  },
  {
   "cell_type": "markdown",
   "metadata": {},
   "source": [
    "### Función de simulación del sistema para un servidor\n",
    "\n",
    "Dado un vector de tiempos de llegada, tiempo de cierre y el parametro $\\theta$ para la generación de tiempos de atención, regresa los tiempos de duración de los clientes en el sistema, los tiempos de atención de cada cliente y los tiempos de salida de cada cliente."
   ]
  },
  {
   "cell_type": "code",
   "execution_count": 4,
   "metadata": {},
   "outputs": [],
   "source": [
    "Sistema <- function(Vec_tiempos_llegada, Tiempo_cierre, Teta){\n",
    "  \n",
    "  # Inicializacion\n",
    "  Tiempo <- 0\n",
    "  Contador_llegadas <- 0\n",
    "  Contador_salidas <- 0\n",
    "  Num_clientes_servidor1 <- 0\n",
    "  Vec_tiempos_atencion <- vector()\n",
    "  Vec_tiempos_salida <- vector()\n",
    "  Vec_clientes_en_sistema <- vector()\n",
    "  Tiempo_despues_de_cierre <- 0\n",
    "  \n",
    "  Tiempo_llegada <- Vec_tiempos_llegada[1]\n",
    "  Tiempo_salida <- Inf\n",
    "  Vec_Tiempo_cliente_en_sistema <- vector()\n",
    "  \n",
    "  i <- 1\n",
    "  j <- 1\n",
    "  \n",
    "  repeat{\n",
    "    \n",
    "    # PARTE 1\n",
    "    if ((Tiempo_llegada <= Tiempo_salida) & (Tiempo_llegada <= Tiempo_cierre)){\n",
    "      Tiempo <- Tiempo_llegada\n",
    "      Contador_llegadas <- Contador_llegadas + 1\n",
    "      i <- i + 1\n",
    "      Tiempo_llegada <- Vec_tiempos_llegada[i]\n",
    "      Num_clientes_servidor1 <- Num_clientes_servidor1 + 1\n",
    "      Vec_clientes_en_sistema[length(Vec_clientes_en_sistema) + 1] <- Num_clientes_servidor1\n",
    "      if (Num_clientes_servidor1 == 1){\n",
    "        Vec_tiempos_atencion[j] <- tserv(Teta)\n",
    "        Tiempo_salida <- Tiempo + Vec_tiempos_atencion[j]\n",
    "        j <- j+1\n",
    "      }\n",
    "    }\n",
    "    \n",
    "    # PARTE 2\n",
    "    if ((Tiempo_salida <= Tiempo_llegada) & (Tiempo_salida <= Tiempo_cierre)){\n",
    "      Tiempo <- Tiempo_salida\n",
    "      Contador_salidas <- Contador_salidas + 1\n",
    "      Num_clientes_servidor1 <- Num_clientes_servidor1 - 1\n",
    "      Vec_clientes_en_sistema[length(Vec_clientes_en_sistema) + 1] <- Num_clientes_servidor1\n",
    "      Vec_tiempos_salida[Contador_salidas] <- Tiempo\n",
    "      Vec_Tiempo_cliente_en_sistema[Contador_salidas] <- Vec_tiempos_salida[Contador_salidas] - Vec_tiempos_llegada[Contador_salidas]\n",
    "      if (Num_clientes_servidor1 == 0){\n",
    "        Tiempo_salida <- Inf\n",
    "      }\n",
    "      if (Num_clientes_servidor1 > 0){\n",
    "        Vec_tiempos_atencion[j] <- tserv(Teta)\n",
    "        Tiempo_salida <- Tiempo + Vec_tiempos_atencion[j]\n",
    "        j <- j+1\n",
    "      }\n",
    "    }\n",
    "    \n",
    "    # PARTE 3\n",
    "    if (min(Tiempo_llegada,Tiempo_salida) > Tiempo_cierre){\n",
    "      if (Num_clientes_servidor1 > 0){\n",
    "        Tiempo <- Tiempo_salida\n",
    "        Contador_salidas <- Contador_salidas + 1\n",
    "        Num_clientes_servidor1 <- Num_clientes_servidor1 - 1\n",
    "        Vec_clientes_en_sistema[length(Vec_clientes_en_sistema) + 1] <- Num_clientes_servidor1\n",
    "        Vec_tiempos_salida[Contador_salidas] <- Tiempo\n",
    "        Vec_Tiempo_cliente_en_sistema[Contador_salidas] <- Vec_tiempos_salida[Contador_salidas] - Vec_tiempos_llegada[Contador_salidas]\n",
    "        if (Num_clientes_servidor1 > 0){\n",
    "          Vec_tiempos_atencion[j] <- tserv(Teta)\n",
    "          Tiempo_salida <- Tiempo + Vec_tiempos_atencion[j]\n",
    "          j <- j+1\n",
    "        }\n",
    "      }\n",
    "      \n",
    "      # PARTE 4\n",
    "      if (Num_clientes_servidor1 == 0){\n",
    "        Tiempo_despues_de_cierre <- max(Tiempo - Tiempo_cierre, 0)\n",
    "        break\n",
    "      }\n",
    "    }\n",
    "  }\n",
    "  \n",
    "  if (Tiempo_salida == Inf){\n",
    "    Tiempo_salida <- Tiempo\n",
    "  }\n",
    "  resultados<-list(\"tiempos en el sistema\",Vec_Tiempo_cliente_en_sistema,\"clientes en el sistema\",Vec_clientes_en_sistema,\n",
    "                   \"tiempo medio cliente en el sistema\",mean(Vec_Tiempo_cliente_en_sistema,na.rm=TRUE),\n",
    "                   \"número medio clientes en el sistema\",mean(Vec_clientes_en_sistema),\n",
    "                   \"tiempo después cierre\",Tiempo_despues_de_cierre ,\"tiempos atención\",Vec_tiempos_atencion,\n",
    "                   \"última salida\",Tiempo_salida,\"tiempos de salida\", Vec_tiempos_salida)\n",
    "  return(resultados)\n",
    "  \n",
    "}   "
   ]
  },
  {
   "cell_type": "markdown",
   "metadata": {},
   "source": [
    "## Proceso de simulación de sistema de colas de 2 servidores en serie"
   ]
  },
  {
   "attachments": {
    "Diagrama2_PIA-2.png": {
     "image/png": "[encoded data removed]"
    }
   },
   "cell_type": "markdown",
   "metadata": {},
   "source": [
    "![Diagrama2_PIA-2.png](attachment:Diagrama2_PIA-2.png)"
   ]
  },
  {
   "cell_type": "markdown",
   "metadata": {},
   "source": [
    "Para simular el proceso se modela el problema como un sistema de 2 servidores individuales donde el tiempo de salida del primer servidor será exactamente el tiempo de llegada al segundo."
   ]
  },
  {
   "cell_type": "markdown",
   "metadata": {},
   "source": [
    "#### Paso 1:\n",
    "\n",
    "Se genera un vector con los tiempos de llegada de los clientes a través de la función generadora Poisson."
   ]
  },
  {
   "cell_type": "code",
   "execution_count": 5,
   "metadata": {
    "scrolled": false
   },
   "outputs": [],
   "source": [
    "# GENERADOR DE LLEGADAS AL SISTEMA\n",
    "Llegadas_S1 <- Gen_Llegadas()\n",
    "Llegadas_S1[length(Llegadas_S1)+1] <- Inf"
   ]
  },
  {
   "cell_type": "markdown",
   "metadata": {},
   "source": [
    "#### Paso 2:\n",
    "\n",
    "Se manda a llamar la función que simula el sistema de un servidor introduciendo los atributos:\n",
    "\n",
    "* Vector con la lista de llegadas\n",
    "* Tiempo de cierre del sistema\n",
    "* Valor de $\\theta$ para la generación de tiempos de servicio del primer servidor\n",
    "\n",
    "Esto representa la simulación de los clientes en el primer servidor del diagrama."
   ]
  },
  {
   "cell_type": "code",
   "execution_count": 6,
   "metadata": {},
   "outputs": [],
   "source": [
    "# SISTEMA DEL SERVIDOR 1\n",
    "Servidor1 <- Sistema(Llegadas_S1,9,15)"
   ]
  },
  {
   "cell_type": "markdown",
   "metadata": {},
   "source": [
    "#### Paso 3:\n",
    "\n",
    "Con la información que nos devuelve la ejecución del primer servidor se obtiene un vector con los tiempos de salida del primer servidor de cada uno de los clientes. Estos tiempos serán interpretados como los tiempos de llegada del segundo servidor."
   ]
  },
  {
   "cell_type": "code",
   "execution_count": 7,
   "metadata": {},
   "outputs": [],
   "source": [
    "# GENERADOR DE LLEGADAS AL SERVIDOR 2 (LLEGADAS AL SISTEMA + TIEMPO EN EL SERVIDOR 1)\n",
    "Llegadas_S2 <- vector()\n",
    "Llegadas_S2 <- as.numeric(unlist(Servidor1[16]))\n",
    "Llegadas_S2[length(Llegadas_S2)+1] <- Inf"
   ]
  },
  {
   "cell_type": "markdown",
   "metadata": {},
   "source": [
    "#### Paso 4:\n",
    "\n",
    "Se manda a llamar nuevamente la función que simula el sistema de un servidor introducciendo los siguientes atributos:\n",
    "\n",
    "* Vector con la lista de salidas del primer servidor, las cuales se toman como una lista de llegadas al segundo servidor.\n",
    "* Tiempo de la última salida del primer servidor, esto para tener en cuenta la ultima entrada del ultimo cliente y no dejarlos fuera cuando se recorra de nuevo la función. Además se corregirá con +0.01 para no afectar el flujo del programa con los condicionales.\n",
    "* Valor de $ \\theta$ para la generación de tiempos del servicio del segundo servidor"
   ]
  },
  {
   "cell_type": "code",
   "execution_count": 8,
   "metadata": {},
   "outputs": [],
   "source": [
    "# SISTEMA DEL SERVIDOR 2\n",
    "Servidor2 <- Sistema(Llegadas_S2,Llegadas_S2[length(Llegadas_S2)-1]+0.01, 15)"
   ]
  },
  {
   "cell_type": "markdown",
   "metadata": {},
   "source": [
    "#### Paso 5:\n",
    "\n",
    "* Se suma el total de tiempo que paso cada cliente en ambos servidores para obtener el tiempo total que pasaron dentro del sistema.\n",
    "* Se obtiene el tiempo total en cada cola al hacer una diferencia entre el tiempo en servidor y el tiempo de servicio de cada cliente."
   ]
  },
  {
   "cell_type": "code",
   "execution_count": 9,
   "metadata": {},
   "outputs": [],
   "source": [
    "# TIEMPOS DEL CLIENTE EN EL SISTEMA\n",
    "Vec_Tiempos_Total_Sistema <-  as.numeric(unlist(Servidor1[2])) + as.numeric(unlist(Servidor2[2]))"
   ]
  },
  {
   "cell_type": "code",
   "execution_count": 10,
   "metadata": {},
   "outputs": [],
   "source": [
    "# TIEMPOS DEL CLIENTE EN CADA COLA\n",
    "Vec_tiempo_en_cola_S1 <- as.numeric(unlist(Servidor1[2])) - as.numeric(unlist(Servidor1[12]))\n",
    "\n",
    "Vec_tiempo_en_cola_S2 <- as.numeric(unlist(Servidor2[2])) - as.numeric(unlist(Servidor2[12]))"
   ]
  },
  {
   "cell_type": "markdown",
   "metadata": {},
   "source": [
    "#### Paso 6:\n",
    "\n",
    "Se ordenan los resultados en un solo Data Frame"
   ]
  },
  {
   "cell_type": "code",
   "execution_count": 11,
   "metadata": {},
   "outputs": [
    {
     "data": {
      "text/html": [
       "<table class=\"dataframe\">\n",
       "<caption>A data.frame: 6 × 7</caption>\n",
       "<thead>\n",
       "\t<tr><th></th><th scope=col>Llegada_al_sistema</th><th scope=col>Tiempo_atencion_Servidor1</th><th scope=col>Cola_Servidor1</th><th scope=col>Tiempo_atencion_Servidor2</th><th scope=col>Cola_Servidor2</th><th scope=col>Tiempo_total_en_sistema</th><th scope=col>Salida_del_sistema</th></tr>\n",
       "\t<tr><th></th><th scope=col>&lt;dbl&gt;</th><th scope=col>&lt;dbl&gt;</th><th scope=col>&lt;dbl&gt;</th><th scope=col>&lt;dbl&gt;</th><th scope=col>&lt;dbl&gt;</th><th scope=col>&lt;dbl&gt;</th><th scope=col>&lt;dbl&gt;</th></tr>\n",
       "</thead>\n",
       "<tbody>\n",
       "\t<tr><th scope=row>1</th><td>0.06105221</td><td>0.02223534</td><td> 3.469447e-18</td><td>0.02223534</td><td>-3.469447e-18</td><td>0.04908805</td><td>0.1101403</td></tr>\n",
       "\t<tr><th scope=row>2</th><td>0.23134804</td><td>0.05110902</td><td> 6.938894e-18</td><td>0.05110902</td><td>-2.428613e-17</td><td>0.06189019</td><td>0.2932382</td></tr>\n",
       "\t<tr><th scope=row>3</th><td>0.26858663</td><td>0.02242332</td><td> 1.387043e-02</td><td>0.02242332</td><td>-2.255141e-17</td><td>0.04025748</td><td>0.3088441</td></tr>\n",
       "\t<tr><th scope=row>4</th><td>0.44673351</td><td>0.03583632</td><td>-6.938894e-18</td><td>0.03583632</td><td>-1.387779e-17</td><td>0.11717818</td><td>0.5639117</td></tr>\n",
       "\t<tr><th scope=row>5</th><td>0.61708582</td><td>0.02828758</td><td> 0.000000e+00</td><td>0.02828758</td><td> 1.040834e-17</td><td>0.04493696</td><td>0.6620228</td></tr>\n",
       "\t<tr><th scope=row>6</th><td>0.89084896</td><td>0.12883184</td><td> 8.326673e-17</td><td>0.12883184</td><td> 2.428613e-17</td><td>0.15708415</td><td>1.0479331</td></tr>\n",
       "</tbody>\n",
       "</table>\n"
      ],
      "text/latex": [
       "A data.frame: 6 × 7\n",
       "\\begin{tabular}{r|lllllll}\n",
       "  & Llegada\\_al\\_sistema & Tiempo\\_atencion\\_Servidor1 & Cola\\_Servidor1 & Tiempo\\_atencion\\_Servidor2 & Cola\\_Servidor2 & Tiempo\\_total\\_en\\_sistema & Salida\\_del\\_sistema\\\\\n",
       "  & <dbl> & <dbl> & <dbl> & <dbl> & <dbl> & <dbl> & <dbl>\\\\\n",
       "\\hline\n",
       "\t1 & 0.06105221 & 0.02223534 &  3.469447e-18 & 0.02223534 & -3.469447e-18 & 0.04908805 & 0.1101403\\\\\n",
       "\t2 & 0.23134804 & 0.05110902 &  6.938894e-18 & 0.05110902 & -2.428613e-17 & 0.06189019 & 0.2932382\\\\\n",
       "\t3 & 0.26858663 & 0.02242332 &  1.387043e-02 & 0.02242332 & -2.255141e-17 & 0.04025748 & 0.3088441\\\\\n",
       "\t4 & 0.44673351 & 0.03583632 & -6.938894e-18 & 0.03583632 & -1.387779e-17 & 0.11717818 & 0.5639117\\\\\n",
       "\t5 & 0.61708582 & 0.02828758 &  0.000000e+00 & 0.02828758 &  1.040834e-17 & 0.04493696 & 0.6620228\\\\\n",
       "\t6 & 0.89084896 & 0.12883184 &  8.326673e-17 & 0.12883184 &  2.428613e-17 & 0.15708415 & 1.0479331\\\\\n",
       "\\end{tabular}\n"
      ],
      "text/markdown": [
       "\n",
       "A data.frame: 6 × 7\n",
       "\n",
       "| <!--/--> | Llegada_al_sistema &lt;dbl&gt; | Tiempo_atencion_Servidor1 &lt;dbl&gt; | Cola_Servidor1 &lt;dbl&gt; | Tiempo_atencion_Servidor2 &lt;dbl&gt; | Cola_Servidor2 &lt;dbl&gt; | Tiempo_total_en_sistema &lt;dbl&gt; | Salida_del_sistema &lt;dbl&gt; |\n",
       "|---|---|---|---|---|---|---|---|\n",
       "| 1 | 0.06105221 | 0.02223534 |  3.469447e-18 | 0.02223534 | -3.469447e-18 | 0.04908805 | 0.1101403 |\n",
       "| 2 | 0.23134804 | 0.05110902 |  6.938894e-18 | 0.05110902 | -2.428613e-17 | 0.06189019 | 0.2932382 |\n",
       "| 3 | 0.26858663 | 0.02242332 |  1.387043e-02 | 0.02242332 | -2.255141e-17 | 0.04025748 | 0.3088441 |\n",
       "| 4 | 0.44673351 | 0.03583632 | -6.938894e-18 | 0.03583632 | -1.387779e-17 | 0.11717818 | 0.5639117 |\n",
       "| 5 | 0.61708582 | 0.02828758 |  0.000000e+00 | 0.02828758 |  1.040834e-17 | 0.04493696 | 0.6620228 |\n",
       "| 6 | 0.89084896 | 0.12883184 |  8.326673e-17 | 0.12883184 |  2.428613e-17 | 0.15708415 | 1.0479331 |\n",
       "\n"
      ],
      "text/plain": [
       "  Llegada_al_sistema Tiempo_atencion_Servidor1 Cola_Servidor1\n",
       "1 0.06105221         0.02223534                 3.469447e-18 \n",
       "2 0.23134804         0.05110902                 6.938894e-18 \n",
       "3 0.26858663         0.02242332                 1.387043e-02 \n",
       "4 0.44673351         0.03583632                -6.938894e-18 \n",
       "5 0.61708582         0.02828758                 0.000000e+00 \n",
       "6 0.89084896         0.12883184                 8.326673e-17 \n",
       "  Tiempo_atencion_Servidor2 Cola_Servidor2 Tiempo_total_en_sistema\n",
       "1 0.02223534                -3.469447e-18  0.04908805             \n",
       "2 0.05110902                -2.428613e-17  0.06189019             \n",
       "3 0.02242332                -2.255141e-17  0.04025748             \n",
       "4 0.03583632                -1.387779e-17  0.11717818             \n",
       "5 0.02828758                 1.040834e-17  0.04493696             \n",
       "6 0.12883184                 2.428613e-17  0.15708415             \n",
       "  Salida_del_sistema\n",
       "1 0.1101403         \n",
       "2 0.2932382         \n",
       "3 0.3088441         \n",
       "4 0.5639117         \n",
       "5 0.6620228         \n",
       "6 1.0479331         "
      ]
     },
     "metadata": {},
     "output_type": "display_data"
    }
   ],
   "source": [
    "df_Resultados <- data.frame(Llegada_al_sistema = Llegadas_S1[1:(length(Llegadas_S1)-1)],\n",
    "                        Tiempo_atencion_Servidor1 = as.numeric(unlist(Servidor1[12])),\n",
    "                        Cola_Servidor1 = Vec_tiempo_en_cola_S1,\n",
    "                        Tiempo_atencion_Servidor2 = as.numeric(unlist(Servidor1[12])),\n",
    "                        Cola_Servidor2 = Vec_tiempo_en_cola_S2,\n",
    "                        Tiempo_total_en_sistema = Vec_Tiempos_Total_Sistema,\n",
    "                        Salida_del_sistema = as.numeric(unlist(Servidor2[16])))\n",
    "head(df_Resultados)"
   ]
  },
  {
   "cell_type": "markdown",
   "metadata": {},
   "source": [
    "## Resultados"
   ]
  },
  {
   "cell_type": "code",
   "execution_count": 12,
   "metadata": {},
   "outputs": [
    {
     "data": {
      "text/plain": [
       " Llegada_al_sistema Tiempo_atencion_Servidor1 Cola_Servidor1  \n",
       " Min.   :0.06105    Min.   :0.0000725         Min.   :0.0000  \n",
       " 1st Qu.:2.98964    1st Qu.:0.0167173         1st Qu.:0.2742  \n",
       " Median :4.56066    Median :0.0426981         Median :0.5289  \n",
       " Mean   :4.69733    Mean   :0.0640553         Mean   :0.6293  \n",
       " 3rd Qu.:6.54120    3rd Qu.:0.0853973         3rd Qu.:0.9680  \n",
       " Max.   :8.87844    Max.   :0.2788815         Max.   :1.7853  \n",
       " Tiempo_atencion_Servidor2 Cola_Servidor2   Tiempo_total_en_sistema\n",
       " Min.   :0.0000725         Min.   :0.0000   Min.   :0.04026        \n",
       " 1st Qu.:0.0167173         1st Qu.:0.2084   1st Qu.:0.56900        \n",
       " Median :0.0426981         Median :0.4255   Median :1.46151        \n",
       " Mean   :0.0640553         Mean   :0.6237   Mean   :1.38825        \n",
       " 3rd Qu.:0.0853973         3rd Qu.:1.0199   3rd Qu.:2.14246        \n",
       " Max.   :0.2788815         Max.   :1.7726   Max.   :2.50816        \n",
       " Salida_del_sistema\n",
       " Min.   : 0.1101   \n",
       " 1st Qu.: 3.4598   \n",
       " Median : 6.0337   \n",
       " Mean   : 6.0856   \n",
       " 3rd Qu.: 8.7391   \n",
       " Max.   :11.0126   "
      ]
     },
     "metadata": {},
     "output_type": "display_data"
    }
   ],
   "source": [
    "summary(df_Resultados)"
   ]
  },
  {
   "cell_type": "markdown",
   "metadata": {},
   "source": [
    "**Tiempos de llegada**\n",
    "* Llegada del primer cliente al sistema: 0 horas y 3.66 min\n",
    "* Llegada del último cliente al sistema: 11 horas y 1 min\n",
    "\n",
    "**Tiempos de atención**\n",
    "* Tiempo medio de atención en Servidor 1: 3.8 min\n",
    "* Tiempo medio de atención en Servidor 2: 3.8 min\n",
    "\n",
    "**Tiempos de espera**\n",
    "* Tiempo medio de espera en Servidor 1: 0 horas y 37.7 min\n",
    "* Tiempo medio de espera en Servidor 2: 0 horas y 37.42 min\n",
    "\n",
    "**Tiempo total en el sistema**\n",
    "* Tiempo medio de los clientes en el sistema: 1 hora y 23.2 min\n",
    "\n",
    "**Tiempos de salidas**\n",
    "* Salida del primer cliente: 0 horas y 6.6 min\n",
    "* Salida del último cliente: 11 horas y 1 min"
   ]
  },
  {
   "cell_type": "markdown",
   "metadata": {},
   "source": [
    "## Gráficos."
   ]
  },
  {
   "cell_type": "markdown",
   "metadata": {},
   "source": [
    "**Tiempos en colas del servidor 1 y 2.**"
   ]
  },
  {
   "cell_type": "code",
   "execution_count": 13,
   "metadata": {
    "scrolled": false
   },
   "outputs": [
    {
     "data": {
      "image/png": "[encoded data removed]",
      "text/plain": [
       "Plot with title \"Tiempos en colas\""
      ]
     },
     "metadata": {
      "image/png": {
       "height": 420,
       "width": 420
      }
     },
     "output_type": "display_data"
    }
   ],
   "source": [
    "plot(Vec_tiempo_en_cola_S1, \n",
    "     type=\"l\", \n",
    "     col=\"blue\",\n",
    "     xlab=\"clientes\", \n",
    "     ylab=\"Tiempos\", \n",
    "     main=\"Tiempos en colas\",\n",
    "    ylim = c(0, max(max(Vec_tiempo_en_cola_S1), max(Vec_tiempo_en_cola_S2))))\n",
    "lines(Vec_tiempo_en_cola_S2, type=\"l\", col=\"magenta\")\n",
    "legend(\"topleft\", legend = c(\"Servidor 1\", \"Servidor 2\"), lty = 1, col = c(\"blue\", \"magenta\"))"
   ]
  },
  {
   "cell_type": "markdown",
   "metadata": {},
   "source": [
    "**Intervalos de tiempo de llegada y de salida del sistema de cada cliente atendido**"
   ]
  },
  {
   "cell_type": "code",
   "execution_count": 14,
   "metadata": {},
   "outputs": [
    {
     "data": {
      "image/png": "[encoded data removed]",
      "text/plain": [
       "Plot with title \"Llegadas y salidas de clientes en el sistema\""
      ]
     },
     "metadata": {
      "image/png": {
       "height": 420,
       "width": 420
      }
     },
     "output_type": "display_data"
    }
   ],
   "source": [
    "dotchart(Llegadas_S1[1:(length(Llegadas_S1)-1)],\n",
    "         xlab=\"Tiempos\",\n",
    "         ylab=\"Número de cliente\",\n",
    "         main=\"Llegadas y salidas de clientes en el sistema\",\n",
    "        xlim = c(0,as.numeric(unlist(Servidor2[14]))),\n",
    "        cex = 0.6,\n",
    "        col = 'blue')\n",
    "Salidas <- Llegadas_S1[1:(length(Llegadas_S1)-1)] + Vec_Tiempos_Total_Sistema\n",
    "points(Salidas,1:(length(Llegadas_S1)-1), cex = 0.5, pch=21,col = \"red\")\n",
    "invisible(sapply(1:(length(Llegadas_S1)-1), function(i) {\n",
    "    segments(Llegadas_S1[i], i, Salidas[i], i)\n",
    "}))\n",
    "\n",
    "legend( x=\"topleft\", \n",
    "        legend=c(\"Llegada\",\"Salida\",\"Tiempo en sistema\"), \n",
    "        col=c(\"blue\",\"red\",\"black\"), lwd=1, lty=c(NA,NA,1), \n",
    "        pch=c(19,19,NA), merge=FALSE )\n"
   ]
  },
  {
   "cell_type": "markdown",
   "metadata": {},
   "source": [
    "**Tiempos totales en sistema y media.**"
   ]
  },
  {
   "cell_type": "code",
   "execution_count": 15,
   "metadata": {},
   "outputs": [
    {
     "data": {
      "image/png": "[encoded data removed]",
      "text/plain": [
       "Plot with title \"Tiempos en el sistema\""
      ]
     },
     "metadata": {
      "image/png": {
       "height": 420,
       "width": 420
      }
     },
     "output_type": "display_data"
    }
   ],
   "source": [
    "plot(Vec_Tiempos_Total_Sistema, type=\"l\", col=\"blue\",  xlab=\"Número de cliente\", ylab=\"Tiempo en sistema\", main=\"Tiempos en el sistema\")\n",
    "abline(h=mean(Vec_Tiempos_Total_Sistema), col=\"magenta\")\n",
    "legend(\"topleft\", legend = c(\"Total\", \"Media\"), lty = 1, col = c(\"blue\", \"magenta\"))"
   ]
  },
  {
   "cell_type": "markdown",
   "metadata": {},
   "source": [
    "Nota: Se uso una semilla para realizar un ejemplo con conclusiones y que estas no tuviesen que ser cambiadas en cada ejecución. Por esto, los tiempos de atención son iguales para ambos servidores."
   ]
  }
 ],
 "metadata": {
  "kernelspec": {
   "display_name": "R",
   "language": "R",
   "name": "ir"
  },
  "language_info": {
   "codemirror_mode": "r",
   "file_extension": ".r",
   "mimetype": "text/x-r-source",
   "name": "R",
   "pygments_lexer": "r",
   "version": "3.6.1"
  }
 },
 "nbformat": 4,
 "nbformat_minor": 4
}
