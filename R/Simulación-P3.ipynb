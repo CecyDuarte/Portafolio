{
 "cells": [
  {
   "cell_type": "markdown",
   "id": "ad238095",
   "metadata": {},
   "source": [
    "# Examen Parcial 3."
   ]
  },
  {
   "cell_type": "markdown",
   "id": "51686aa0",
   "metadata": {},
   "source": [
    "Simulación.\n",
    "\n",
    "**Grupo:** 001.\n",
    "\n",
    "**Prof.** Lic. Blance Elida Serna Rodríguez.\n",
    "\n",
    "Alma Cecilia Villarreal Duarte."
   ]
  },
  {
   "cell_type": "markdown",
   "id": "4d21c2d0",
   "metadata": {},
   "source": [
    "## Ejercicio 1."
   ]
  },
  {
   "cell_type": "markdown",
   "id": "f536fb04",
   "metadata": {},
   "source": [
    "**a)** Sea $X_{i}\\sim Exp(1)$  $\\forall$  i=1,2,3,4,5 \n",
    "\n",
    "$\\Rightarrow \\theta=P(\\sum_{i=1}^{5}i x_{i}\\geq21.6)$\n",
    "\n",
    "La suma se puede genera con una ciclo donde se sume cada i por el log(runif(1,5)).\n",
    "\n",
    "Donde:\n",
    "\n",
    "$\\theta=I(\\sum_{i=1}^{5}-i ln(U_{i})\\geq21.6), siendo I, la integral de la función$"
   ]
  },
  {
   "cell_type": "code",
   "execution_count": 27,
   "id": "8eac065a",
   "metadata": {},
   "outputs": [
    {
     "data": {
      "text/html": [
       "0.1687"
      ],
      "text/latex": [
       "0.1687"
      ],
      "text/markdown": [
       "0.1687"
      ],
      "text/plain": [
       "[1] 0.1687"
      ]
     },
     "metadata": {},
     "output_type": "display_data"
    },
    {
     "data": {
      "text/html": [
       "0.140254335433543"
      ],
      "text/latex": [
       "0.140254335433543"
      ],
      "text/markdown": [
       "0.140254335433543"
      ],
      "text/plain": [
       "[1] 0.1402543"
      ]
     },
     "metadata": {},
     "output_type": "display_data"
    }
   ],
   "source": [
    "set.seed(1234)\n",
    "Estimadortetha <- function(n, valor){\n",
    "    sumatoria <- vector()\n",
    "    j <- c(1:5)\n",
    "    for(i in 1:n){\n",
    "        u <- runif(5)\n",
    "        sumatoria[i] <- sum(-(j*log(u))) >= valor\n",
    "    }\n",
    "    return(sumatoria)\n",
    "}\n",
    "\n",
    "Resulttetha <- Estimadortetha(10000, 21.6)\n",
    "mean(Resulttetha)\n",
    "var(Resulttetha)"
   ]
  },
  {
   "cell_type": "markdown",
   "id": "4fa26906",
   "metadata": {},
   "source": [
    "**b)** Usando las variables antitéticas, tenemos que el estimador es:\n",
    "\n",
    "\n",
    "$I(\\sum_{i=1}^{5}-i ln(U_{i})\\geq21.6)+I(\\sum_{i=1}^{5}-i ln(1-U_{i})\\geq21.6)$\n",
    "\n",
    "Siendo I, la integral de la función"
   ]
  },
  {
   "cell_type": "code",
   "execution_count": 28,
   "id": "9f29d34b",
   "metadata": {},
   "outputs": [
    {
     "data": {
      "text/html": [
       "0.1664"
      ],
      "text/latex": [
       "0.1664"
      ],
      "text/markdown": [
       "0.1664"
      ],
      "text/plain": [
       "[1] 0.1664"
      ]
     },
     "metadata": {},
     "output_type": "display_data"
    },
    {
     "data": {
      "text/html": [
       "0.0573167716771677"
      ],
      "text/latex": [
       "0.0573167716771677"
      ],
      "text/markdown": [
       "0.0573167716771677"
      ],
      "text/plain": [
       "[1] 0.05731677"
      ]
     },
     "metadata": {},
     "output_type": "display_data"
    }
   ],
   "source": [
    "set.seed(1234)\n",
    "EstimadorPANT <- function(n){\n",
    "    sumatoria1 <- vector()\n",
    "    sumatoria2 <- vector()\n",
    "    j <- c(1,2,3,4,5)\n",
    "    for(i in 1:n){\n",
    "        u <- runif(5)\n",
    "        sumatoria1[i] <- sum(-(j*log(u))) >= 21.6\n",
    "        sumatoria2[i] <- sum(-(j*log((1-u)))) >= 21.6\n",
    "    }\n",
    "    sumT <- (sumatoria1 + sumatoria2)/2\n",
    "    return(sumT)\n",
    "}\n",
    "\n",
    "ResultPANT <- EstimadorPANT(10000)\n",
    "mean(ResultPANT)\n",
    "var(ResultPANT)"
   ]
  },
  {
   "cell_type": "markdown",
   "id": "b3c3b55f",
   "metadata": {},
   "source": [
    "**c)** Los resultados de las varianzas:\n",
    "\n",
    "*estimador1=0.140254335433543 & estimador 2=0.0573167716771677\n",
    "\n",
    "Donde un estimador es más eficiente o más preciso que otro estimador, si la varianza del primero es menor que la del segundo, es decir, $var(\\theta_{1})<var(\\theta_{2})$"
   ]
  },
  {
   "cell_type": "code",
   "execution_count": 34,
   "id": "b316d24a",
   "metadata": {},
   "outputs": [
    {
     "name": "stdout",
     "output_type": "stream",
     "text": [
      "[1] FALSE\n"
     ]
    },
    {
     "data": {
      "text/html": [
       "2.44700340457964"
      ],
      "text/latex": [
       "2.44700340457964"
      ],
      "text/markdown": [
       "2.44700340457964"
      ],
      "text/plain": [
       "[1] 2.447003"
      ]
     },
     "metadata": {},
     "output_type": "display_data"
    },
    {
     "data": {
      "text/html": [
       "59.1336898784665"
      ],
      "text/latex": [
       "59.1336898784665"
      ],
      "text/markdown": [
       "59.1336898784665"
      ],
      "text/plain": [
       "[1] 59.13369"
      ]
     },
     "metadata": {},
     "output_type": "display_data"
    }
   ],
   "source": [
    "print(var(Resulttetha)<var(ResultPANT))\n",
    "eficiencia <- ((var(Resulttetha)/var(ResultPANT)))\n",
    "eficiencia\n",
    "Por_Error<-100*(var(Resulttetha) -var(ResultPANT))/var(Resulttetha)\n",
    "Por_Error"
   ]
  },
  {
   "cell_type": "markdown",
   "id": "6b3471e1",
   "metadata": {},
   "source": [
    "El estimador de las variables antiteticas tiene una varianza menor, por lo que es un **estimador2 más eficiente que el estimador 1.**\n",
    "\n",
    "Teniendo que la $Eficiencia=\\frac{\\theta_{2}}{\\theta_{1}}=\\frac{0.140254335433543}{0.0573167716771677}$\n",
    "\n",
    "**Eficiencia=2.44700340457964**\n",
    "\n",
    "Por lo que $\\theta_{2}$ es 2.4470 veces más eficiente que $\\theta_{1}$\n",
    "\n",
    "Midiendo el porcentaje de reducción de error, tenemos que:\n",
    "\n",
    "%Reducción de error=100*(0.140254335433543-0.0573167716771677)/0.140254335433543\n",
    "\n",
    "**%Reducción de error=59.1336898784665%**"
   ]
  },
  {
   "cell_type": "markdown",
   "id": "a81c5292",
   "metadata": {},
   "source": [
    "## Ejercicio 2."
   ]
  },
  {
   "cell_type": "markdown",
   "id": "507a2364",
   "metadata": {},
   "source": [
    "**Inciso a**"
   ]
  },
  {
   "cell_type": "markdown",
   "id": "90d8329e",
   "metadata": {},
   "source": [
    "**Aproximación de theta**"
   ]
  },
  {
   "cell_type": "code",
   "execution_count": 90,
   "id": "a87daa21",
   "metadata": {},
   "outputs": [
    {
     "data": {
      "text/html": [
       "99.8290558079669"
      ],
      "text/latex": [
       "99.8290558079669"
      ],
      "text/markdown": [
       "99.8290558079669"
      ],
      "text/plain": [
       "[1] 99.82906"
      ]
     },
     "metadata": {},
     "output_type": "display_data"
    },
    {
     "data": {
      "text/html": [
       "6262157.12091469"
      ],
      "text/latex": [
       "6262157.12091469"
      ],
      "text/markdown": [
       "6262157.12091469"
      ],
      "text/plain": [
       "[1] 6262157"
      ]
     },
     "metadata": {},
     "output_type": "display_data"
    }
   ],
   "source": [
    "set.seed(1234)\n",
    "n <- 10000\n",
    "n1 <- rnorm(n,1,sqrt(1))\n",
    "n2 <- rnorm(n,1,sqrt(1))\n",
    "exp <- exp(n1*n2)\n",
    "mean(exp) \n",
    "var(exp)"
   ]
  },
  {
   "cell_type": "markdown",
   "id": "d1d75710",
   "metadata": {},
   "source": [
    "**Inciso b**"
   ]
  },
  {
   "cell_type": "markdown",
   "id": "776adbbf",
   "metadata": {},
   "source": [
    "**Forma 1**"
   ]
  },
  {
   "cell_type": "markdown",
   "id": "a106c8a5",
   "metadata": {},
   "source": [
    "**Aproximación con variable de control**"
   ]
  },
  {
   "cell_type": "code",
   "execution_count": 91,
   "id": "235d21c1",
   "metadata": {},
   "outputs": [
    {
     "data": {
      "text/html": [
       "<dl class=dl-horizontal>\n",
       "\t<dt>(Intercept)</dt>\n",
       "\t\t<dd>-318.611454011054</dd>\n",
       "\t<dt>n1</dt>\n",
       "\t\t<dd>203.571233823917</dd>\n",
       "\t<dt>n2</dt>\n",
       "\t\t<dd>215.292129096932</dd>\n",
       "</dl>\n"
      ],
      "text/latex": [
       "\\begin{description*}\n",
       "\\item[(Intercept)] -318.611454011054\n",
       "\\item[n1] 203.571233823917\n",
       "\\item[n2] 215.292129096932\n",
       "\\end{description*}\n"
      ],
      "text/markdown": [
       "(Intercept)\n",
       ":   -318.611454011054n1\n",
       ":   203.571233823917n2\n",
       ":   215.292129096932\n",
       "\n"
      ],
      "text/plain": [
       "(Intercept)          n1          n2 \n",
       "  -318.6115    203.5712    215.2921 "
      ]
     },
     "metadata": {},
     "output_type": "display_data"
    }
   ],
   "source": [
    "reg <- lm(exp ~ n1+n2)$coef\n",
    "reg"
   ]
  },
  {
   "cell_type": "code",
   "execution_count": 92,
   "id": "b2e2c499",
   "metadata": {},
   "outputs": [
    {
     "data": {
      "text/html": [
       "<strong>(Intercept):</strong> 100.251908909794"
      ],
      "text/latex": [
       "\\textbf{(Intercept):} 100.251908909794"
      ],
      "text/markdown": [
       "**(Intercept):** 100.251908909794"
      ],
      "text/plain": [
       "(Intercept) \n",
       "   100.2519 "
      ]
     },
     "metadata": {},
     "output_type": "display_data"
    }
   ],
   "source": [
    "exp2<-reg[1]+reg[2]+reg[3]\n",
    "exp2"
   ]
  },
  {
   "cell_type": "code",
   "execution_count": 93,
   "id": "d267a7d1",
   "metadata": {},
   "outputs": [
    {
     "data": {
      "text/html": [
       "100.251908909794"
      ],
      "text/latex": [
       "100.251908909794"
      ],
      "text/markdown": [
       "100.251908909794"
      ],
      "text/plain": [
       "[1] 100.2519"
      ]
     },
     "metadata": {},
     "output_type": "display_data"
    },
    {
     "data": {
      "text/html": [
       "6173899.40018245"
      ],
      "text/latex": [
       "6173899.40018245"
      ],
      "text/markdown": [
       "6173899.40018245"
      ],
      "text/plain": [
       "[1] 6173899"
      ]
     },
     "metadata": {},
     "output_type": "display_data"
    }
   ],
   "source": [
    "exp2 <- exp - reg[2]*(n1-1)- reg[3]*(n2-1)\n",
    "mean(exp2)\n",
    "var(exp2)"
   ]
  },
  {
   "cell_type": "markdown",
   "id": "4eae8266",
   "metadata": {},
   "source": [
    "**Estimación del porcentaje de reducción en la varianza:**"
   ]
  },
  {
   "cell_type": "code",
   "execution_count": 98,
   "id": "d1abaed8",
   "metadata": {},
   "outputs": [
    {
     "data": {
      "text/html": [
       "1.409382087164"
      ],
      "text/latex": [
       "1.409382087164"
      ],
      "text/markdown": [
       "1.409382087164"
      ],
      "text/plain": [
       "[1] 1.409382"
      ]
     },
     "metadata": {},
     "output_type": "display_data"
    }
   ],
   "source": [
    "por_var<-100*(var(exp)-var(exp2))/var(exp)\n",
    "por_var"
   ]
  },
  {
   "cell_type": "markdown",
   "id": "74221f07",
   "metadata": {},
   "source": [
    "**Forma 2**"
   ]
  },
  {
   "cell_type": "code",
   "execution_count": 99,
   "id": "06c72ba9",
   "metadata": {},
   "outputs": [
    {
     "data": {
      "text/html": [
       "200.825380452799"
      ],
      "text/latex": [
       "200.825380452799"
      ],
      "text/markdown": [
       "200.825380452799"
      ],
      "text/plain": [
       "[1] 200.8254"
      ]
     },
     "metadata": {},
     "output_type": "display_data"
    },
    {
     "data": {
      "text/html": [
       "200.805297914753"
      ],
      "text/latex": [
       "200.805297914753"
      ],
      "text/markdown": [
       "200.805297914753"
      ],
      "text/plain": [
       "[1] 200.8053"
      ]
     },
     "metadata": {},
     "output_type": "display_data"
    }
   ],
   "source": [
    "Cov<-(exp-mean(exp))*(n1-mean(exp))\n",
    "Cov<-sum(Cov)/(n-1)\n",
    "Cov\n",
    "Cov22<-mean(exp*n1)-(mean(exp)*mean(n1))\n",
    "Cov22"
   ]
  },
  {
   "cell_type": "code",
   "execution_count": 101,
   "id": "2a2df7b0",
   "metadata": {},
   "outputs": [
    {
     "data": {
      "text/html": [
       "6220801.25146711"
      ],
      "text/latex": [
       "6220801.25146711"
      ],
      "text/markdown": [
       "6220801.25146711"
      ],
      "text/plain": [
       "[1] 6220801"
      ]
     },
     "metadata": {},
     "output_type": "display_data"
    }
   ],
   "source": [
    "VarCont<-var(exp)-(Cov^2/var(n1))\n",
    "VarCont"
   ]
  },
  {
   "cell_type": "code",
   "execution_count": 102,
   "id": "1729e046",
   "metadata": {},
   "outputs": [
    {
     "data": {
      "text/html": [
       "0.660409323002426"
      ],
      "text/latex": [
       "0.660409323002426"
      ],
      "text/markdown": [
       "0.660409323002426"
      ],
      "text/plain": [
       "[1] 0.6604093"
      ]
     },
     "metadata": {},
     "output_type": "display_data"
    }
   ],
   "source": [
    "Corr2<-Cov^2/(var(exp)*var(n1))\n",
    "Corr2*100"
   ]
  },
  {
   "cell_type": "code",
   "execution_count": null,
   "id": "432620c0",
   "metadata": {},
   "outputs": [],
   "source": [
    "Mejora del 0.6604%"
   ]
  }
 ],
 "metadata": {
  "kernelspec": {
   "display_name": "R",
   "language": "R",
   "name": "ir"
  },
  "language_info": {
   "codemirror_mode": "r",
   "file_extension": ".r",
   "mimetype": "text/x-r-source",
   "name": "R",
   "pygments_lexer": "r",
   "version": "3.6.1"
  }
 },
 "nbformat": 4,
 "nbformat_minor": 5
}
