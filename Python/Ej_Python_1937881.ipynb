{
 "cells": [
  {
   "cell_type": "markdown",
   "id": "practical-thursday",
   "metadata": {},
   "source": [
    "# Ejercicios con Estructuras básicas de Python"
   ]
  },
  {
   "cell_type": "markdown",
   "id": "prerequisite-drunk",
   "metadata": {},
   "source": [
    "## Ejercicio 1:"
   ]
  },
  {
   "cell_type": "markdown",
   "id": "urban-vertical",
   "metadata": {},
   "source": [
    "Realiza una variable con tu matricula y realiza una secuencia de imprimir con tu nombre y tu matricula concatenados."
   ]
  },
  {
   "cell_type": "code",
   "execution_count": 161,
   "id": "greater-anchor",
   "metadata": {},
   "outputs": [
    {
     "name": "stdout",
     "output_type": "stream",
     "text": [
      "1937881 Alma Cecilia \n"
     ]
    }
   ],
   "source": [
    "Matricula=\"1937881\"\n",
    "Nombre=\"Alma Cecilia \"\n",
    "espacio=\" \"\n",
    "Variable=Matricula+espacio+ Nombre\n",
    "print(Variable)"
   ]
  },
  {
   "cell_type": "markdown",
   "id": "straight-klein",
   "metadata": {},
   "source": [
    "## Ejercicio 2:"
   ]
  },
  {
   "cell_type": "markdown",
   "id": "focused-postage",
   "metadata": {},
   "source": [
    "Pidiendo el input del usuario pide dos números y crea una pequeña calculadora con los operadores básicos de suma, resta, multiplicación, división, y exponente."
   ]
  },
  {
   "cell_type": "code",
   "execution_count": 162,
   "id": "identified-pension",
   "metadata": {},
   "outputs": [
    {
     "name": "stdout",
     "output_type": "stream",
     "text": [
      "Escribe dos numeros: \n",
      "Numero 1: 10\n",
      "Numero 2: 12\n",
      "\n",
      "    ¿Qué operacion quieres hacer?\n",
      "    1) Sumar los dos números\n",
      "    2) Restar los dos números\n",
      "    3) Multiplicar los dos números\n",
      "    4) Dividir los números\n",
      "    5) Exponente\n",
      "    6) Salir\n",
      "    \n",
      "Introduce el numero de la opción: 6\n",
      "Fin de calculadora :)\n"
     ]
    }
   ],
   "source": [
    "print(\"Escribe dos numeros: \")\n",
    "n1= float(input(\"Numero 1: \"))\n",
    "n2= float(input(\"Numero 2: \"))\n",
    "af=1\n",
    "neg=0           \n",
    "opcion = 0\n",
    "while True:\n",
    "    print(\"\"\"\n",
    "    ¿Qué operacion quieres hacer?\n",
    "    1) Sumar los dos números\n",
    "    2) Restar los dos números\n",
    "    3) Multiplicar los dos números\n",
    "    4) Dividir los números\n",
    "    5) Exponente\n",
    "    6) Salir\n",
    "    \"\"\")\n",
    "    opcion = int(input(\"Introduce el numero de la opción: \") )     \n",
    "\n",
    "    if opcion == 1:\n",
    "        print(\"La suma de\",n1,\"+\",n2,\"es\",n1+n2)\n",
    "    elif opcion == 2:  \n",
    "        orden=int(input(\"¿Desea restar n2 a n1 (si=1/no=0): \"))\n",
    "        if orden==af: \n",
    "            print(\"La resta de\",n1,\"-\",n2,\"es\",n1-n2)\n",
    "        elif orden==neg:\n",
    "            print(\"La resta de\",n2,\"-\",n1,\"es\",n2-n1)\n",
    "        else: \n",
    "            print(\"Escribe 0 o 1\")\n",
    "    elif opcion == 3:\n",
    "           print(\"El producto de\",n1,\"*\",n2,\"es\",n1*n2)\n",
    "    elif opcion==4:\n",
    "        orden=int(input(\"¿Desea dividir n1 entre n2 (si=1/no=0): \"))\n",
    "        if orden==af: \n",
    "            print(\"La división de\",n1,\"/\",n2,\"es\",n1/n2)\n",
    "        elif orden==neg:\n",
    "            print(\"La división de\",n2,\"/\",n1,\"es\",n2/n1)\n",
    "        else:\n",
    "            print(\"Escribe 1 o 0\") \n",
    "    elif opcion==5: \n",
    "        orden=int(input(\"¿Desea elevar n1 a la n2 (si=1/no=0): \"))  \n",
    "        if orden==af:  \n",
    "            print(n1,\"elevado a la \",n2,\"potencia\", \"es\",n1**n2)  \n",
    "        elif orden==neg: \n",
    "            print(n2,\"elevado a la \",n1,\"potencia\", \"es\",n2**n1) \n",
    "        else: \n",
    "            print(\"Escribe 1 o 0 \")  \n",
    "    elif opcion == 6:\n",
    "        print(\"Fin de calculadora :)\")\n",
    "        break\n",
    "    else:\n",
    "        print(\"Ingresa un numero entero entre 1 y 6\")\n",
    "    "
   ]
  },
  {
   "cell_type": "markdown",
   "id": "adjustable-damage",
   "metadata": {},
   "source": [
    "## Ejercicio 3:"
   ]
  },
  {
   "cell_type": "markdown",
   "id": "bearing-slave",
   "metadata": {},
   "source": [
    "Con loop while o for, realiza una lista de 10 numeros multiplos de 3, y después realiza una función de loop que sume todos los números dentro del arreglo."
   ]
  },
  {
   "cell_type": "code",
   "execution_count": 170,
   "id": "oriented-equilibrium",
   "metadata": {},
   "outputs": [
    {
     "name": "stdout",
     "output_type": "stream",
     "text": [
      "['4', '5', '21', '51', '72', '30', '54', '18', '9', '60', '63', '63']\n"
     ]
    }
   ],
   "source": [
    "rtres=list(str(r.randrange(3, 99, 3)))\n",
    "i=0\n",
    "while i<10:\n",
    "    num=r.randrange(3, 99, 3)\n",
    "    num2=int(num)\n",
    "    agregar=str(num) \n",
    "    rtres.append(agregar) \n",
    "    i+=1\n",
    "print(rtres)"
   ]
  },
  {
   "cell_type": "code",
   "execution_count": 171,
   "id": "gorgeous-primary",
   "metadata": {},
   "outputs": [
    {
     "name": "stdout",
     "output_type": "stream",
     "text": [
      "La suma es:  44\n"
     ]
    }
   ],
   "source": [
    "comp=len(rtres)-1\n",
    "j=0\n",
    "num1=0\n",
    "while j<comp:\n",
    "    num1+=int(rtres[0])\n",
    "    j+=1\n",
    "    \n",
    "print(\"La suma es: \", num1)"
   ]
  },
  {
   "cell_type": "markdown",
   "id": "headed-display",
   "metadata": {},
   "source": [
    "## Ejercicio 4:"
   ]
  },
  {
   "cell_type": "markdown",
   "id": "impaired-duplicate",
   "metadata": {},
   "source": [
    "Con una función de if else, revisar si un número es par o es impar."
   ]
  },
  {
   "cell_type": "code",
   "execution_count": 172,
   "id": "every-evans",
   "metadata": {},
   "outputs": [
    {
     "name": "stdout",
     "output_type": "stream",
     "text": [
      "es un numero par\n"
     ]
    }
   ],
   "source": [
    "num=10\n",
    "prueba=num%2\n",
    "if prueba==0:\n",
    "    print(\"es un numero par\")\n",
    "else:\n",
    "    print(\"es un numero impar\")"
   ]
  },
  {
   "cell_type": "markdown",
   "id": "brilliant-sound",
   "metadata": {},
   "source": [
    "Con una función de if else, revisar si un número es primo o no."
   ]
  },
  {
   "cell_type": "code",
   "execution_count": 175,
   "id": "authorized-japanese",
   "metadata": {},
   "outputs": [
    {
     "name": "stdout",
     "output_type": "stream",
     "text": [
      "no es primo\n"
     ]
    }
   ],
   "source": [
    "num=7\n",
    "i=1\n",
    "divisor=0\n",
    "while i<num:\n",
    "    prueba=num%i\n",
    "    if prueba==0:\n",
    "        divisor+=1\n",
    "    else:\n",
    "        divisor=divisor\n",
    "    i+=1\n",
    "    \n",
    "if divisor==2:\n",
    "    print(\"es primo\")\n",
    "else:\n",
    "    print(\"no es primo\")"
   ]
  },
  {
   "cell_type": "markdown",
   "id": "pending-clothing",
   "metadata": {},
   "source": [
    "## Ejercicio 5:"
   ]
  },
  {
   "cell_type": "markdown",
   "id": "crazy-multiple",
   "metadata": {},
   "source": [
    "Utilizando diferentes clases en python, crea una calculadora con los operadores básicos de suma, resta, multiplicación, división, y exponente."
   ]
  },
  {
   "cell_type": "code",
   "execution_count": 179,
   "id": "drawn-bishop",
   "metadata": {},
   "outputs": [
    {
     "name": "stdout",
     "output_type": "stream",
     "text": [
      "\n",
      "     Selecciona un atributo segun el caso     \n",
      "    ¿Qué operacion quieres hacer?\n",
      "    1) Sumar [funcion: sumar]\n",
      "    2) Restar [funcion: restar]\n",
      "    3) Multiplicar [funcion: multiplicar]\n",
      "    4) Dividir [funcion: dividir]\n",
      "    5) Exponente [funcion: exponente]\n",
      "    \n",
      "La suma es: 5\n"
     ]
    }
   ],
   "source": [
    "class calc:\n",
    "    print(\"\"\"\n",
    "     Selecciona un atributo segun el caso     \n",
    "    ¿Qué operacion quieres hacer?\n",
    "    1) Sumar [funcion: sumar]\n",
    "    2) Restar [funcion: restar]\n",
    "    3) Multiplicar [funcion: multiplicar]\n",
    "    4) Dividir [funcion: dividir]\n",
    "    5) Exponente [funcion: exponente]\n",
    "    \"\"\") \n",
    "    def sumar(self, n1, n2):\n",
    "\n",
    "        print(\"La suma es: \" + str((n1+n2)))\n",
    "    \n",
    "    def restar(self, n1, n2):\n",
    "        print(\"La resta es de n1-n2: \", str((n1+n2)))\n",
    "        \n",
    "    def multiplicar(self, n1, n2):\n",
    "        print(\"El producto de los numeros es: \" + str((n1*n2)))\n",
    "    \n",
    "    def dividir(self, n1, n2):\n",
    "        print(\"La división de ni entre n2 es: \" + str((n1/n2)))\n",
    "    def exponente(self, n1, n2):\n",
    "        print(\"n1 elevado a la n2 es: \" + str((n1**n2)))\n",
    "prueba=calc()\n",
    "prueba.sumar(1,4)"
   ]
  },
  {
   "cell_type": "markdown",
   "id": "worse-cookie",
   "metadata": {},
   "source": [
    "## Tuplas"
   ]
  },
  {
   "cell_type": "markdown",
   "id": "posted-stress",
   "metadata": {},
   "source": [
    "Crear una variable flotante, integer, boleana y compleja e imprimir el tipo de variable que es."
   ]
  },
  {
   "cell_type": "code",
   "execution_count": 3,
   "id": "meaning-nightmare",
   "metadata": {},
   "outputs": [],
   "source": [
    "a=1.3478\n",
    "b=12\n",
    "c=True\n",
    "d=4+7j"
   ]
  },
  {
   "cell_type": "code",
   "execution_count": 4,
   "id": "popular-treasurer",
   "metadata": {},
   "outputs": [
    {
     "name": "stdout",
     "output_type": "stream",
     "text": [
      "<class 'float'>\n",
      "<class 'int'>\n",
      "<class 'bool'>\n",
      "<class 'complex'>\n"
     ]
    }
   ],
   "source": [
    "print(type(a))\n",
    "print(type(b))\n",
    "print(type(c))\n",
    "print(type(d))"
   ]
  },
  {
   "cell_type": "markdown",
   "id": "demographic-declaration",
   "metadata": {},
   "source": [
    "Crear una tupla con valores enteros imprimir el primer y ultimo valor."
   ]
  },
  {
   "cell_type": "code",
   "execution_count": 20,
   "id": "perfect-stylus",
   "metadata": {},
   "outputs": [],
   "source": [
    "tupla=(1, 4, 5, 7, 8)"
   ]
  },
  {
   "cell_type": "code",
   "execution_count": 21,
   "id": "legitimate-volume",
   "metadata": {},
   "outputs": [
    {
     "name": "stdout",
     "output_type": "stream",
     "text": [
      "1 <-- Primer número\n",
      "8 <-- Último número\n"
     ]
    }
   ],
   "source": [
    "print(tupla[0], \"<--\", \"Primer número\")\n",
    "print(tupla[4], \"<--\", \"Último número\")"
   ]
  },
  {
   "cell_type": "markdown",
   "id": "varying-tuning",
   "metadata": {},
   "source": [
    "Añadir 3 valores de string a la tupla.\n",
    "NOTA: La tupla es un objeto inmutable"
   ]
  },
  {
   "cell_type": "code",
   "execution_count": 27,
   "id": "hundred-accordance",
   "metadata": {},
   "outputs": [
    {
     "name": "stdout",
     "output_type": "stream",
     "text": [
      "[1, 4, 5, 7, 8]\n",
      "[1, 4, 5, 7, 8, 'hola', 'como', 'estas']\n",
      "(1, 4, 5, 7, 8, 'hola', 'como', 'estas')\n"
     ]
    }
   ],
   "source": [
    "lista=list(tupla)\n",
    "print(lista) #revise que la lista tuviera los datos de la tupla\n",
    "lista.append(\"hola\")\n",
    "lista.append(\"como\")\n",
    "lista.append(\"estas\")#agregue valores a lista por se mutable\n",
    "print(lista) #revise que tuvieran todos los elementos\n",
    "lista.clear #la limpie \n",
    "tupla=tuple(lista) #asigne valores a la tupla a partir de lista\n",
    "print(tupla)"
   ]
  },
  {
   "cell_type": "markdown",
   "id": "ultimate-executive",
   "metadata": {},
   "source": [
    "Verificar si una variable existe dentro de la tupla."
   ]
  },
  {
   "cell_type": "code",
   "execution_count": 31,
   "id": "occupational-reducing",
   "metadata": {},
   "outputs": [
    {
     "name": "stdout",
     "output_type": "stream",
     "text": [
      "como\n"
     ]
    }
   ],
   "source": [
    "print(tupla[6]) #verifique que estuviera una variable string"
   ]
  },
  {
   "cell_type": "markdown",
   "id": "smart-algebra",
   "metadata": {},
   "source": [
    "## Listas"
   ]
  },
  {
   "cell_type": "markdown",
   "id": "legal-kansas",
   "metadata": {},
   "source": [
    "Crear una lista con 40 elementos aleatorios enteros."
   ]
  },
  {
   "cell_type": "code",
   "execution_count": 39,
   "id": "facial-hearing",
   "metadata": {},
   "outputs": [
    {
     "name": "stdout",
     "output_type": "stream",
     "text": [
      "['3', '9', '19', '3', '29', '33', '31', '21', '19', '11', '27', '19', '35', '21', '33', '3', '25', '35', '23', '9', '5', '3', '5', '9', '3', '23', '37', '33', '31', '35', '11', '3', '7', '23', '27', '33', '35', '25', '27', '37']\n"
     ]
    }
   ],
   "source": [
    "import random as r\n",
    "rlista=list(str(r.randrange(3, 40, 2))) #no se puede convertir un int a list, primero a str y luego lista\n",
    "#creditos a esta pagina: https://es.stackoverflow.com/questions/364966/como-convertir-un-dato-int-a-string-en-python\n",
    "i=0\n",
    "while i<39:\n",
    "    num=r.randrange(3, 40, 2)\n",
    "    #descubrí esta función de randrange en: https://j2logo.com/python/generar-numeros-aleatorios-en-python/\n",
    "    agregar=str(num) #para convertir int a str\n",
    "    rlista.append(agregar) #descubrí porque me marcaba error que en las listas no puedo agregar numeros (int, float)\n",
    "    i+=1\n",
    "print(rlista)"
   ]
  },
  {
   "cell_type": "markdown",
   "id": "medieval-rubber",
   "metadata": {},
   "source": [
    "Con una funcion (def) crear dos listas nuevas a partir de la lista creada por numeros aleatorios, en la cual en una esten los elementos pares, y en la otra los elementos impares."
   ]
  },
  {
   "cell_type": "code",
   "execution_count": 108,
   "id": "physical-paintball",
   "metadata": {},
   "outputs": [],
   "source": [
    "def listas(inicio, fin, cantidad):\n",
    "    valor=cantidad-1\n",
    "    rpar=[]\n",
    "    rimpar=[] \n",
    "    i=0\n",
    "    while i<2:\n",
    "        prueba=inicio%2\n",
    "        if prueba==0: \n",
    "            rpar=list(str(r.randrange(inicio, fin, 2))) \n",
    "            j=0\n",
    "            while j<valor:  \n",
    "                num=r.randrange(inicio, fin, 2) \n",
    "                agregar=str(num) \n",
    "                rpar.append(agregar)  \n",
    "                j+=1\n",
    "            print(\"Lista par: \",rpar) \n",
    "        else:\n",
    "            rimpar=list(str(r.randrange(inicio, fin, 2))) \n",
    "            j=0\n",
    "            while j<valor:  \n",
    "                num=r.randrange(inicio, fin, 2) \n",
    "                agregar=str(num) \n",
    "                rimpar.append(agregar)  \n",
    "                j+=1\n",
    "            print(\"Lista impar: \",rimpar) \n",
    "        inicio+=1\n",
    "        i+=1\n",
    "    \n",
    "    listafinal=rpar+rimpar \n",
    "    print(\"Lista Final\", listafinal )       \n",
    "    "
   ]
  },
  {
   "cell_type": "code",
   "execution_count": 110,
   "id": "resistant-radar",
   "metadata": {},
   "outputs": [
    {
     "name": "stdout",
     "output_type": "stream",
     "text": [
      "Lista par:  ['3', '4', '26', '2', '28', '30', '10', '32', '6', '8', '34', '16', '36', '18', '4', '8', '10', '10', '12', '34', '4']\n",
      "Lista impar:  ['3', '1', '35', '3', '27', '25', '37', '33', '17', '23', '23', '7', '35', '35', '13', '15', '29', '37', '7', '9', '37']\n",
      "Lista Final ['3', '4', '26', '2', '28', '30', '10', '32', '6', '8', '34', '16', '36', '18', '4', '8', '10', '10', '12', '34', '4', '3', '1', '35', '3', '27', '25', '37', '33', '17', '23', '23', '7', '35', '35', '13', '15', '29', '37', '7', '9', '37']\n"
     ]
    }
   ],
   "source": [
    "lista=listas(2,40,20)"
   ]
  },
  {
   "cell_type": "markdown",
   "id": "assured-spain",
   "metadata": {},
   "source": [
    "Crear dos variables con la longitud de ambas listas nuevas e imprimir las variables."
   ]
  },
  {
   "cell_type": "code",
   "execution_count": 113,
   "id": "temporal-burner",
   "metadata": {},
   "outputs": [
    {
     "name": "stdout",
     "output_type": "stream",
     "text": [
      "2\n",
      "2\n"
     ]
    }
   ],
   "source": [
    "a=len(rpar)\n",
    "b=len(rimpar)\n",
    "print(a)\n",
    "print(b)"
   ]
  },
  {
   "cell_type": "markdown",
   "id": "surgical-cradle",
   "metadata": {},
   "source": [
    "Ordenar los elementos de la lista par de mayor a menor, y los de la lista impar de menor a mayor."
   ]
  },
  {
   "cell_type": "code",
   "execution_count": 107,
   "id": "stone-steel",
   "metadata": {},
   "outputs": [
    {
     "name": "stdout",
     "output_type": "stream",
     "text": [
      "['6', '6']\n",
      "['3', '5']\n"
     ]
    }
   ],
   "source": [
    "rpar.sort(reverse=True)\n",
    "print(rpar)\n",
    "rimpar.sort()\n",
    "print(rimpar)"
   ]
  },
  {
   "cell_type": "markdown",
   "id": "champion-parliament",
   "metadata": {},
   "source": [
    "Utilizar al menos cuatro de las funciones de listas en python en la lista original de 40 elementos"
   ]
  },
  {
   "cell_type": "code",
   "execution_count": 114,
   "id": "surprised-camera",
   "metadata": {},
   "outputs": [
    {
     "name": "stdout",
     "output_type": "stream",
     "text": [
      "['11', '11', '19', '19', '19', '21', '21', '23', '23', '23', '25', '25', '27', '27', '27', '29', '3', '3', '3', '3', '3', '3', '31', '31', '33', '33', '33', '33', '35', '35', '35', '35', '37', '37', '5', '5', '7', '9', '9', '9']\n",
      "['11', '11', '19', '19', '19', '21', '21', '23', '23', '23', '25', '25', '27', '27', '27', '29', '3', '3', '3', '3', '3', '3', '31', '31', '33', '33', '33', '33', '35', '35', '35', '35', '37', '37', '5', '5', '7', '9', '9']\n",
      "['11', '11', '19', '19', '19', '21', '21', '23', '23', '23', '25', '25', '27', '27', '27', '29', '3', '3', '3', '3', '3', '3', '31', '31', '33', '33', '33', '33', '35', '35', '35', '35', '37', '37', '5', '5', '7', '9', '9', '4']\n"
     ]
    },
    {
     "data": {
      "text/plain": [
       "6"
      ]
     },
     "execution_count": 114,
     "metadata": {},
     "output_type": "execute_result"
    }
   ],
   "source": [
    "rlista.sort()#ordenar de forma ascedente\n",
    "print(rlista)\n",
    "rlista.pop(-1)# quitar un elemento \n",
    "print(rlista)\n",
    "rlista.append(\"4\") #agregar un elemento\n",
    "print(rlista)\n",
    "rlista.count(\"3\") #contar cuantas veces aparece el 3"
   ]
  },
  {
   "cell_type": "markdown",
   "id": "another-christmas",
   "metadata": {},
   "source": [
    "# Diccionarios"
   ]
  },
  {
   "cell_type": "markdown",
   "id": "legal-macintosh",
   "metadata": {},
   "source": [
    "Crear un diccionario de 6 personas que conozcas con su primer nombre y su edad."
   ]
  },
  {
   "cell_type": "code",
   "execution_count": 131,
   "id": "otherwise-reproduction",
   "metadata": {},
   "outputs": [
    {
     "name": "stdout",
     "output_type": "stream",
     "text": [
      "{'Nombres': ['Angel', 'Emma', 'Cecy', 'Karla', 'Ana', 'karen'], 'Edades': [12, 23, 18, 21, 20, 19]}\n"
     ]
    }
   ],
   "source": [
    "dict1={\"Nombres\":[\"Angel\", \n",
    "                     \"Emma\", \n",
    "                     \"Cecy\",\n",
    "                     \"Karla\",\n",
    "                     \"Ana\", \n",
    "                     \"karen\"],\n",
    "          \"Edades\":[12,\n",
    "                   23,\n",
    "                   18,\n",
    "                   21,\n",
    "                   20,\n",
    "                   19]}\n",
    "print(dict1)"
   ]
  },
  {
   "cell_type": "markdown",
   "id": "binding-cooling",
   "metadata": {},
   "source": [
    "Crear una lista con los valores de la edad y reacomodar la lista de menor a mayor valor."
   ]
  },
  {
   "cell_type": "code",
   "execution_count": 132,
   "id": "serial-devices",
   "metadata": {},
   "outputs": [
    {
     "name": "stdout",
     "output_type": "stream",
     "text": [
      "[12, 23, 18, 21, 20, 19]\n"
     ]
    }
   ],
   "source": [
    "valores=list(dict1.get(\"Edades\"))\n",
    "print(valores)"
   ]
  },
  {
   "cell_type": "markdown",
   "id": "novel-anchor",
   "metadata": {},
   "source": [
    "Usando el diccionario y un loop, imprimir solo los nombres."
   ]
  },
  {
   "cell_type": "code",
   "execution_count": 133,
   "id": "original-cleaner",
   "metadata": {},
   "outputs": [
    {
     "name": "stdout",
     "output_type": "stream",
     "text": [
      "Angel\n",
      "Emma\n",
      "Cecy\n",
      "Karla\n",
      "Ana\n",
      "karen\n"
     ]
    }
   ],
   "source": [
    "valor=len(valores)\n",
    "i=0\n",
    "while i<valor:\n",
    "    nom=str(dict1[\"Nombres\"][i])\n",
    "    print(nom)\n",
    "    i+=1"
   ]
  },
  {
   "cell_type": "markdown",
   "id": "colonial-kidney",
   "metadata": {},
   "source": [
    "Añadir dos personas nuevas a tu diccionario, incluyendo edad."
   ]
  },
  {
   "cell_type": "code",
   "execution_count": 139,
   "id": "lesbian-rwanda",
   "metadata": {},
   "outputs": [
    {
     "name": "stdout",
     "output_type": "stream",
     "text": [
      "[{'Nombres': ['Angel', 'Emma', 'Cecy', 'Karla', 'Ana', 'karen'], 'Edades': [12, 23, 18, 21, 20, 19]}, {'Nombres': ['Pedro', 'Juan'], 'Edades': [23, 16]}]\n"
     ]
    }
   ],
   "source": [
    "dict2=({\"Nombres\":[\"Pedro\",\n",
    "                        \"Juan\"],\n",
    "             \"Edades\":[23,\n",
    "                       16]})\n",
    "dict3=[]\n",
    "dict3.append(dict1)\n",
    "dict3.append(dict2)\n",
    "print(dict3)"
   ]
  },
  {
   "cell_type": "markdown",
   "id": "circular-address",
   "metadata": {},
   "source": [
    "## Sets"
   ]
  },
  {
   "cell_type": "markdown",
   "id": "indoor-paradise",
   "metadata": {},
   "source": [
    "Crea un set con 100 numeros aleatorios enteros del 1 al 25."
   ]
  },
  {
   "cell_type": "code",
   "execution_count": 143,
   "id": "emerging-cargo",
   "metadata": {},
   "outputs": [
    {
     "name": "stdout",
     "output_type": "stream",
     "text": [
      "{'2', '12', '22', '11', '21', '7', '16', '8', '9', '15', '3', '5', '20', '14', '13', '1', '6', '18', '10', '23', '24', '19', '4'}\n"
     ]
    }
   ],
   "source": [
    "rlista=list(str(r.randrange(1, 25, 1))) \n",
    "i=0\n",
    "while i<99:\n",
    "    num=r.randrange(1, 25, 1)\n",
    "    agregar=str(num)\n",
    "    rlista.append(agregar)\n",
    "    i+=1\n",
    "setprueba=set(rlista)\n",
    "print(setprueba)"
   ]
  },
  {
   "cell_type": "markdown",
   "id": "united-divorce",
   "metadata": {},
   "source": [
    "Comprueba la longitud de tu set."
   ]
  },
  {
   "cell_type": "code",
   "execution_count": 144,
   "id": "patient-youth",
   "metadata": {},
   "outputs": [
    {
     "data": {
      "text/plain": [
       "23"
      ]
     },
     "execution_count": 144,
     "metadata": {},
     "output_type": "execute_result"
    }
   ],
   "source": [
    "len(setprueba)"
   ]
  },
  {
   "cell_type": "markdown",
   "id": "norwegian-quick",
   "metadata": {},
   "source": [
    "Crea una lista de 5 numeros aleatorios del 1 al 10 y comprueba si cada valor aparece en el set inicial."
   ]
  },
  {
   "cell_type": "code",
   "execution_count": 145,
   "id": "tender-influence",
   "metadata": {},
   "outputs": [
    {
     "name": "stdout",
     "output_type": "stream",
     "text": [
      "{'5', '8', '6', '7', '3'}\n",
      "{'2', '12', '22', '11', '21', '7', '16', '8', '9', '15', '3', '5', '20', '14', '13', '1', '6', '18', '10', '23', '24', '19', '4'}\n",
      "{'8', '5', '6', '7', '3'}\n"
     ]
    }
   ],
   "source": [
    "rlista=list(str(r.randrange(1, 10, 1))) \n",
    "i=0\n",
    "while i<4:\n",
    "    num=r.randrange(1, 10, 1)\n",
    "    agregar=str(num)\n",
    "    rlista.append(agregar)\n",
    "    i+=1\n",
    "setprueba2=set(rlista)\n",
    "print(setprueba2)\n",
    "print(setprueba)\n",
    "comprueba=setprueba.intersection(setprueba2)\n",
    "print(comprueba)"
   ]
  },
  {
   "cell_type": "code",
   "execution_count": null,
   "id": "ahead-gamma",
   "metadata": {},
   "outputs": [],
   "source": []
  }
 ],
 "metadata": {
  "kernelspec": {
   "display_name": "Python 3",
   "language": "python",
   "name": "python3"
  },
  "language_info": {
   "codemirror_mode": {
    "name": "ipython",
    "version": 3
   },
   "file_extension": ".py",
   "mimetype": "text/x-python",
   "name": "python",
   "nbconvert_exporter": "python",
   "pygments_lexer": "ipython3",
   "version": "3.8.5"
  }
 },
 "nbformat": 4,
 "nbformat_minor": 5
}
